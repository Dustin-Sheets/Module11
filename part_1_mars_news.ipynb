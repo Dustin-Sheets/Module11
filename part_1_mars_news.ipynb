{
 "cells": [
  {
   "cell_type": "code",
   "execution_count": 1,
   "id": "b1bd237a",
   "metadata": {},
   "outputs": [],
   "source": [
    "from splinter import Browser\n",
    "from bs4 import BeautifulSoup as Soup"
   ]
  },
  {
   "cell_type": "code",
   "execution_count": 2,
   "id": "a2dab36d",
   "metadata": {},
   "outputs": [],
   "source": [
    "browser = Browser('chrome')"
   ]
  },
  {
   "cell_type": "code",
   "execution_count": 3,
   "id": "47d1d116",
   "metadata": {},
   "outputs": [],
   "source": [
    "url = 'https://static.bc-edx.com/data/web/mars_news/index.html'\n",
    "browser.visit(url)"
   ]
  },
  {
   "cell_type": "code",
   "execution_count": 4,
   "id": "65348cee",
   "metadata": {},
   "outputs": [],
   "source": [
    "html = browser.html"
   ]
  },
  {
   "cell_type": "code",
   "execution_count": 5,
   "id": "dafa11af",
   "metadata": {},
   "outputs": [],
   "source": [
    "soup = Soup(html, \"html.parser\")"
   ]
  },
  {
   "cell_type": "code",
   "execution_count": 6,
   "id": "83ab150d",
   "metadata": {},
   "outputs": [],
   "source": [
    "titles_teasers = []\n",
    "for x in list(range(0, len(soup.find_all(\"div\", class_=\"content_title\")))):\n",
    "    titles_teasers.append(\"title: \"+ soup.find_all(\"div\", class_=\"content_title\")[x].text)\n",
    "    titles_teasers.append(\"preview: \"+ soup.find_all(\"div\", class_=\"article_teaser_body\")[x].text)\n",
    "    "
   ]
  },
  {
   "cell_type": "code",
   "execution_count": 7,
   "id": "95da0120",
   "metadata": {},
   "outputs": [
    {
     "data": {
      "text/plain": [
       "[\"title: NASA's MAVEN Observes Martian Light Show Caused by Major Solar Storm\",\n",
       " 'preview: For the first time in its eight years orbiting Mars, NASA’s MAVEN mission witnessed two different types of ultraviolet aurorae simultaneously, the result of solar storms that began on Aug. 27.',\n",
       " \"title: NASA Prepares to Say 'Farewell' to InSight Spacecraft\",\n",
       " 'preview: A closer look at what goes into wrapping up the mission as the spacecraft’s power supply continues to dwindle.',\n",
       " 'title: NASA and ESA Agree on Next Steps to Return Mars Samples to Earth',\n",
       " 'preview: The agency’s Perseverance rover will establish the first sample depot on Mars.',\n",
       " \"title: NASA's InSight Lander Detects Stunning Meteoroid Impact on Mars\",\n",
       " 'preview: The agency’s lander felt the ground shake during the impact while cameras aboard the Mars Reconnaissance Orbiter spotted the yawning new crater from space.',\n",
       " 'title: NASA To Host Briefing on InSight, Mars Reconnaissance Orbiter Findings',\n",
       " 'preview: Scientists from two Mars missions will discuss how they combined images and data for a major finding on the Red Planet.',\n",
       " 'title: Why NASA Is Trying To Crash Land on Mars',\n",
       " 'preview: Like a car’s crumple zone, the experimental SHIELD lander is designed to absorb a hard impact.',\n",
       " 'title: Curiosity Mars Rover Reaches Long-Awaited Salty Region',\n",
       " 'preview: After years of climbing, the Mars rover has arrived at a special region believed to have formed as Mars’ climate was drying.',\n",
       " 'title: Mars Mission Shields Up for Tests',\n",
       " 'preview: Protecting Mars Sample Return spacecraft from micrometeorites requires high-caliber work.',\n",
       " \"title: NASA's InSight Waits Out Dust Storm\",\n",
       " 'preview: InSight’s team is taking steps to help the solar-powered lander continue operating for as long as possible.',\n",
       " \"title: NASA's InSight 'Hears' Its First Meteoroid Impacts on Mars\",\n",
       " 'preview: The Mars lander’s seismometer has picked up vibrations from four separate impacts in the past two years.',\n",
       " \"title: NASA's Perseverance Rover Investigates Geologically Rich Mars Terrain\",\n",
       " 'preview: The latest findings provide greater detail on a region of the Red Planet that has a watery past and is yielding promising samples for the NASA-ESA Mars Sample Return campaign.',\n",
       " 'title: NASA to Host Briefing on Perseverance Mars Rover Mission Operations',\n",
       " 'preview: Members of the mission will discuss the rover’s activities as it gathers samples in an ancient river delta.',\n",
       " \"title: NASA's Perseverance Makes New Discoveries in Mars' Jezero Crater\",\n",
       " 'preview: The rover found that Jezero Crater’s floor is made up of volcanic rocks that have interacted with water.',\n",
       " \"title: 10 Years Since Landing, NASA's Curiosity Mars Rover Still Has Drive\",\n",
       " 'preview: Despite signs of wear, the intrepid spacecraft is about to start an exciting new chapter of its mission as it climbs a Martian mountain.',\n",
       " \"title: SAM's Top 5 Discoveries Aboard NASA's Curiosity Rover at Mars\",\n",
       " 'preview: “Selfie” of the Curiosity rover with inset showing the SAM instrument prior to installation on the rover.']"
      ]
     },
     "execution_count": 7,
     "metadata": {},
     "output_type": "execute_result"
    }
   ],
   "source": [
    "titles_teasers"
   ]
  },
  {
   "cell_type": "code",
   "execution_count": 8,
   "id": "671c515c",
   "metadata": {},
   "outputs": [],
   "source": [
    "browser.quit()"
   ]
  },
  {
   "cell_type": "code",
   "execution_count": null,
   "id": "392bbabf",
   "metadata": {},
   "outputs": [],
   "source": []
  }
 ],
 "metadata": {
  "kernelspec": {
   "display_name": "Python 3 (ipykernel)",
   "language": "python",
   "name": "python3"
  },
  "language_info": {
   "codemirror_mode": {
    "name": "ipython",
    "version": 3
   },
   "file_extension": ".py",
   "mimetype": "text/x-python",
   "name": "python",
   "nbconvert_exporter": "python",
   "pygments_lexer": "ipython3",
   "version": "3.10.9"
  }
 },
 "nbformat": 4,
 "nbformat_minor": 5
}
